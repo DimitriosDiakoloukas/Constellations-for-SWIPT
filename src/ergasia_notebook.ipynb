{
 "cells": [
  {
   "cell_type": "markdown",
   "metadata": {},
   "source": [
    "### PAPR for 16-PAM"
   ]
  },
  {
   "cell_type": "code",
   "execution_count": null,
   "metadata": {},
   "outputs": [],
   "source": [
    "M = 16\n",
    "power_vec = [(2i - M - 1)^2 for i ∈ 1:M]\n",
    "power_sum = sum(power_vec)\n",
    "avg_power = power_sum/M\n",
    "max_power = (M - 1)^2\n",
    "\n",
    "papr_pam_16 = max_power/avg_power\n",
    "# println(\"Power sum: \", power_sum)\n",
    "println(\"PAPR: \", papr_pam_16)"
   ]
  },
  {
   "cell_type": "markdown",
   "metadata": {},
   "source": [
    "### d_min for 16-PAM"
   ]
  },
  {
   "cell_type": "code",
   "execution_count": null,
   "metadata": {},
   "outputs": [],
   "source": [
    "Eg = 1/avg_power\n",
    "d_min_pam_16 = sqrt(Eg)*2"
   ]
  },
  {
   "cell_type": "markdown",
   "metadata": {},
   "source": [
    "### PAPR for 16-PSK\n",
    "\n",
    "In PSK (Phase Shift Keying), the peak power refers to the maximum power that the signal will reach at any given point in time. PSK is a constant-envelope modulation scheme, which means that the amplitude of the signal remains constant for all symbols. Because the signal's power is proportional to the square of its amplitude and the amplitude is constant, the power of a PSK signal remains constant at all times.\n",
    "\n",
    "Therefore, the peak power $(P_{\\text{peak}})$ in PSK is the same as the average power $(P_{\\text{avg}})$, which is the power level of the signal:\n",
    "\n",
    "\\begin{equation}\n",
    "    P_{\\text{peak}} = P_{\\text{avg}}\n",
    "\\end{equation}\n",
    "\n",
    "To put it mathematically, for PSK:\n",
    "\n",
    "$$\n",
    "\\text{PAPR} = \\frac{\\text{Peak Power}}{\\text{Average Power}}\n",
    "$$\n",
    "\n",
    "And since for PSK:\n",
    "\n",
    "$$\n",
    "\\text{Peak Power} = \\text{Average Power}\n",
    "$$\n",
    "\n",
    "It follows that:\n",
    "\n",
    "$$\n",
    "\\text{PAPR} = \\frac{\\text{Average Power}}{\\text{Average Power}} = 1\n",
    "$$\n",
    "\n",
    "Or in logarithmic scale (decibels, dB):\n",
    "\n",
    "$$\n",
    "\\text{PAPR (dB)} = 10 \\cdot \\log_{10}(1) = 0 \\text{ dB}\n",
    "$$\n"
   ]
  },
  {
   "cell_type": "markdown",
   "metadata": {},
   "source": [
    "### d_min for 16-PSK \n",
    "result does not agree with figure 2 [R1]"
   ]
  },
  {
   "cell_type": "code",
   "execution_count": 2,
   "metadata": {},
   "outputs": [
    {
     "name": "stdout",
     "output_type": "stream",
     "text": [
      "The minimum Euclidean distance (d_min) for 16-PSK with a radius of 1.0 is 0.3901806440322565\n"
     ]
    }
   ],
   "source": [
    "papr_psk_16 = 1.0\n",
    "calculate_dmin(M, radius) = 2 * radius * sin(π / M)\n",
    "\n",
    "M = 16\n",
    "radius = 1.0 # Radius of the constellation circle normalized on average energy\n",
    "d_min_psk_16 = calculate_dmin(M, radius)\n",
    "\n",
    "println(\"The minimum Euclidean distance (d_min) for $M-PSK with a radius of $radius is $d_min_psk_16\")\n"
   ]
  },
  {
   "cell_type": "markdown",
   "metadata": {},
   "source": [
    "### PAPR for 16-QAM"
   ]
  },
  {
   "cell_type": "code",
   "execution_count": 1,
   "metadata": {},
   "outputs": [
    {
     "name": "stdout",
     "output_type": "stream",
     "text": [
      "PAPR: 1.8\n"
     ]
    }
   ],
   "source": [
    "M = 16\n",
    "m = Int64(sqrt(M))\n",
    "power_vec = [(2i - m - 1)^2 + (2j - m - 1)^2 for i ∈ 1:m, j ∈ 1:m]\n",
    "power_sum = sum(power_vec)\n",
    "avg_power = power_sum/M\n",
    "max_power = maximum(power_vec)\n",
    "\n",
    "papr_qam_16 = max_power/avg_power\n",
    "println(\"PAPR: \", papr_qam_16)"
   ]
  },
  {
   "cell_type": "markdown",
   "metadata": {},
   "source": [
    "### d_min for 16-QAM"
   ]
  },
  {
   "cell_type": "code",
   "execution_count": null,
   "metadata": {},
   "outputs": [],
   "source": [
    "Es = 1/avg_power\n",
    "d_min_qam_16 = 2*sqrt(Es)"
   ]
  },
  {
   "cell_type": "markdown",
   "metadata": {},
   "source": [
    "### CQAM, M = 16 symbols, N = 4 circles"
   ]
  },
  {
   "cell_type": "code",
   "execution_count": null,
   "metadata": {},
   "outputs": [],
   "source": []
  },
  {
   "cell_type": "code",
   "execution_count": null,
   "metadata": {},
   "outputs": [],
   "source": [
    "using LinearAlgebra: norm\n",
    "\n",
    "function cqam_symbol_packets(dmin, M, N)\n",
    "    n = M ÷ N\n",
    "        \n",
    "    R1 = dmin / (2 * sin(π / n))\n",
    "    R2 = sqrt(2)*R1\n",
    "    radii = [R1, R2]\n",
    "    for i ∈ 3:N-1\n",
    "        Ri = max(sqrt(2) * radii[i - 1], radii[i - 2] + dmin)\n",
    "        push!(radii, Ri)\n",
    "    end\n",
    "    \n",
    "    Rn = sqrt(N - sum(r^2 for r in radii))\n",
    "    push!(radii, Rn)\n",
    "    return radii\n",
    "end\n",
    "\n",
    "dmin = 0.01\n",
    "M = 16\n",
    "N = 4\n",
    "s = cqam_symbol_packets(dmin, M, N)\n",
    "println(\"Radii is for each level: $s\")\n",
    "println(\"current PAPR: \", s[end]^2)\n"
   ]
  },
  {
   "cell_type": "markdown",
   "metadata": {},
   "source": [
    "### Plots"
   ]
  },
  {
   "cell_type": "code",
   "execution_count": 8,
   "metadata": {},
   "outputs": [],
   "source": [
    "using Plots\n",
    "using LaTeXStrings\n",
    "gr()\n",
    "\n",
    "minimum_distance_N4 = [dmin for dmin ∈ 0.001:0.001:0.6]\n",
    "minimum_distance_N8 = [dmin for dmin ∈ 0.001:0.001:0.30]\n",
    "\n",
    "M = 16\n",
    "N4 = 4\n",
    "N8 = 8\n",
    "\n",
    "papr_N4 = [cqam_symbol_packets(dmin, M, N4)[end]^2 for dmin ∈ minimum_distance_N4]\n",
    "papr_N8 = [cqam_symbol_packets(dmin, M, N8)[end]^2 for dmin ∈ minimum_distance_N8]\n",
    "\n",
    "plot(minimum_distance_N4, papr_N4, label=\"CQAM, M=16, N=4\", gridalpha=0.2, gridlinewidth=2)\n",
    "plot!(minimum_distance_N8, papr_N8, label=\"CQAM, M=16, N=8\")\n",
    "# print(d_min_psk_16)\n",
    "yticks!(0:1:ceil(maximum(papr_N8)))\n",
    "xticks!(0:0.1:ceil(maximum(minimum_distance_N4)))\n",
    "xlims!(0, 0.75)\n",
    "ylims!(0, 8.5)\n",
    "# ylims!(, ceil(maximum(papr_N4))/2)\n",
    "scatter!([d_min_psk_16], [papr_psk_16], label=\"PSK, M=16\", color=:gray)\n",
    "scatter!([d_min_pam_16], [papr_pam_16], label=\"PAM, M=16\", color=:yellow)\n",
    "scatter!([d_min_qam_16], [papr_qam_16], label=\"QAM, M=16\")\n",
    "xlabel!(L\"d_{\\mathrm{min}}\")\n",
    "ylabel!(L\"\\mathrm{PAPR}\")"
   ]
  },
  {
   "cell_type": "code",
   "execution_count": null,
   "metadata": {},
   "outputs": [],
   "source": []
  }
 ],
 "metadata": {
  "kernelspec": {
   "display_name": "Julia 1.10.4",
   "language": "julia",
   "name": "julia-1.10"
  },
  "language_info": {
   "file_extension": ".jl",
   "mimetype": "application/julia",
   "name": "julia",
   "version": "1.10.4"
  }
 },
 "nbformat": 4,
 "nbformat_minor": 2
}
